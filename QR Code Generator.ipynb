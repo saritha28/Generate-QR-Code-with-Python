{
 "cells": [
  {
   "cell_type": "code",
   "execution_count": 1,
   "metadata": {},
   "outputs": [
    {
     "name": "stdout",
     "output_type": "stream",
     "text": [
      "Requirement already satisfied: qrcode[pil] in c:\\common files\\new folder\\lib\\site-packages (7.4.2)\n",
      "Requirement already satisfied: pypng in c:\\common files\\new folder\\lib\\site-packages (from qrcode[pil]) (0.20220715.0)\n",
      "Requirement already satisfied: colorama; platform_system == \"Windows\" in c:\\common files\\new folder\\lib\\site-packages (from qrcode[pil]) (0.4.6)\n",
      "Requirement already satisfied: typing-extensions in c:\\common files\\new folder\\lib\\site-packages (from qrcode[pil]) (4.4.0)\n",
      "Requirement already satisfied: pillow>=9.1.0; extra == \"pil\" in c:\\common files\\new folder\\lib\\site-packages (from qrcode[pil]) (9.5.0)\n"
     ]
    }
   ],
   "source": [
    "!pip install qrcode[pil]"
   ]
  },
  {
   "cell_type": "code",
   "execution_count": 14,
   "metadata": {},
   "outputs": [],
   "source": [
    "import qrcode"
   ]
  },
  {
   "cell_type": "code",
   "execution_count": 15,
   "metadata": {
    "scrolled": true
   },
   "outputs": [
    {
     "name": "stdout",
     "output_type": "stream",
     "text": [
      "Enter data for the QR code: Code Emblem\n"
     ]
    }
   ],
   "source": [
    "# Input data for the QR code\n",
    "data = input(\"Enter data for the QR code: \")"
   ]
  },
  {
   "cell_type": "code",
   "execution_count": 22,
   "metadata": {},
   "outputs": [],
   "source": [
    "# Generate QR code\n",
    "qr = qrcode.QRCode(\n",
    "    version=1,\n",
    "    error_correction=qrcode.constants.ERROR_CORRECT_L,\n",
    "    box_size=20,\n",
    "    border=4,\n",
    ")"
   ]
  },
  {
   "cell_type": "code",
   "execution_count": 23,
   "metadata": {},
   "outputs": [],
   "source": [
    "qr.add_data(data)\n",
    "qr.make(fit=True)"
   ]
  },
  {
   "cell_type": "code",
   "execution_count": 24,
   "metadata": {},
   "outputs": [],
   "source": [
    "# Create an image from the QR Code instance\n",
    "img = qr.make_image(fill_color=\"blue\", back_color=\"pink\")"
   ]
  },
  {
   "cell_type": "code",
   "execution_count": 25,
   "metadata": {},
   "outputs": [],
   "source": [
    "# Specify the directory where the QR code will be saved\n",
    "directory = \"C:\\\\Users\\\\sarit\\\\Downloads\\\\\"\n",
    "filename = \"qrcode.png\""
   ]
  },
  {
   "cell_type": "code",
   "execution_count": 26,
   "metadata": {},
   "outputs": [],
   "source": [
    "# Save the image\n",
    "#img.save(directory + filename)\n",
    "img.save(\"C:\\\\Users\\\\sarit\\\\Downloads\\\\qrcode.png\")"
   ]
  },
  {
   "cell_type": "code",
   "execution_count": 27,
   "metadata": {},
   "outputs": [
    {
     "name": "stdout",
     "output_type": "stream",
     "text": [
      "QR Code generated successfully at: C:\\Users\\sarit\\Downloads\\qrcode.png\n"
     ]
    }
   ],
   "source": [
    "print(\"QR Code generated successfully at:\", directory + filename)"
   ]
  },
  {
   "cell_type": "code",
   "execution_count": null,
   "metadata": {},
   "outputs": [],
   "source": []
  }
 ],
 "metadata": {
  "kernelspec": {
   "display_name": "Python 3",
   "language": "python",
   "name": "python3"
  },
  "language_info": {
   "codemirror_mode": {
    "name": "ipython",
    "version": 3
   },
   "file_extension": ".py",
   "mimetype": "text/x-python",
   "name": "python",
   "nbconvert_exporter": "python",
   "pygments_lexer": "ipython3",
   "version": "3.7.4"
  }
 },
 "nbformat": 4,
 "nbformat_minor": 2
}
